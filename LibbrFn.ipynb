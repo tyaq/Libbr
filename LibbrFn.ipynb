{
 "cells": [
  {
   "cell_type": "code",
   "execution_count": 1,
   "metadata": {
    "collapsed": false
   },
   "outputs": [],
   "source": [
    "import nltk\n",
    "import random"
   ]
  },
  {
   "cell_type": "code",
   "execution_count": 2,
   "metadata": {
    "collapsed": false
   },
   "outputs": [],
   "source": [
    "TAGS = {\n",
    "    \"NN\"  : \"<noun>\",\n",
    "    \"NNS\" : \"<plural_noun>\",\n",
    "    \"NNP\" : \"<proper_noun>\",\n",
    "    \"VB\"  : \"<verb>\",\n",
    "    \"VBD\" : \"<verb_past_tense>\",\n",
    "    \"VBG\" : \"<verb_ending_with_ing>\",\n",
    "    \"JJ\"  : \"<adjective>\",\n",
    "    \"RB\"  : \"<adverb>\",\n",
    "    \"UH\"  : \"<interjection>\" }"
   ]
  },
  {
   "cell_type": "code",
   "execution_count": 3,
   "metadata": {
    "collapsed": false
   },
   "outputs": [],
   "source": [
    "str = \"\"\"The club isn't the best place to find a lover /n\n",
    "So the bar is where I go\n",
    "Me and my friends at the table doing shots... Drinking fast and then we talk slow\n",
    "And you come over and start up a conversation with just me\n",
    "And trust me I'll give it a chance now\n",
    "Take my hand, stop, put Van the Man on the jukebox\n",
    "And then we start to dance, and now I'm singing like\"\"\""
   ]
  },
  {
   "cell_type": "code",
   "execution_count": 4,
   "metadata": {
    "collapsed": false
   },
   "outputs": [
    {
     "name": "stdout",
     "output_type": "stream",
     "text": [
      "[('The', 'DT'), ('club', 'NN'), ('is', 'VBZ'), (\"n't\", 'RB'), ('the', 'DT'), ('best', 'JJS'), ('place', 'NN'), ('to', 'TO'), ('find', 'VB'), ('a', 'DT'), ('lover', 'NN'), ('/n', 'NNP'), ('So', 'IN'), ('the', 'DT'), ('bar', 'NN'), ('is', 'VBZ'), ('where', 'WRB'), ('I', 'PRP'), ('go', 'VBP'), ('Me', 'RB'), ('and', 'CC'), ('my', 'PRP$'), ('friends', 'NNS'), ('at', 'IN'), ('the', 'DT'), ('table', 'NN'), ('doing', 'VBG'), ('shots', 'NNS'), ('...', ':'), ('Drinking', 'NNP'), ('fast', 'RB'), ('and', 'CC'), ('then', 'RB'), ('we', 'PRP'), ('talk', 'VBP'), ('slow', 'JJ'), ('And', 'CC'), ('you', 'PRP'), ('come', 'VBP'), ('over', 'IN'), ('and', 'CC'), ('start', 'VB'), ('up', 'RP'), ('a', 'DT'), ('conversation', 'NN'), ('with', 'IN'), ('just', 'RB'), ('me', 'PRP'), ('And', 'CC'), ('trust', 'VB'), ('me', 'PRP'), ('I', 'PRP'), (\"'ll\", 'MD'), ('give', 'VB'), ('it', 'PRP'), ('a', 'DT'), ('chance', 'NN'), ('now', 'RB'), ('Take', 'NNP'), ('my', 'PRP$'), ('hand', 'NN'), (',', ','), ('stop', 'NN'), (',', ','), ('put', 'VBD'), ('Van', 'NNP'), ('the', 'DT'), ('Man', 'NNP'), ('on', 'IN'), ('the', 'DT'), ('jukebox', 'NN'), ('And', 'CC'), ('then', 'RB'), ('we', 'PRP'), ('start', 'VBP'), ('to', 'TO'), ('dance', 'VB'), (',', ','), ('and', 'CC'), ('now', 'RB'), ('I', 'PRP'), (\"'m\", 'VBP'), ('singing', 'VBG'), ('like', 'IN')]\n"
     ]
    }
   ],
   "source": [
    "tokens = nltk.word_tokenize(str)\n",
    "tagged = nltk.pos_tag(tokens)\n",
    "suffleable = tagged\n",
    "print tagged"
   ]
  },
  {
   "cell_type": "code",
   "execution_count": 5,
   "metadata": {
    "collapsed": false
   },
   "outputs": [
    {
     "name": "stdout",
     "output_type": "stream",
     "text": [
      "[('club', 'NN'), (\"n't\", 'RB'), ('place', 'NN'), ('find', 'VB'), ('lover', 'NN'), ('/n', 'NNP'), ('bar', 'NN'), ('Me', 'RB'), ('friends', 'NNS'), ('table', 'NN'), ('doing', 'VBG'), ('shots', 'NNS'), ('Drinking', 'NNP'), ('fast', 'RB'), ('then', 'RB'), ('slow', 'JJ'), ('start', 'VB'), ('conversation', 'NN'), ('just', 'RB'), ('trust', 'VB'), ('give', 'VB'), ('chance', 'NN'), ('now', 'RB'), ('Take', 'NNP'), ('hand', 'NN'), ('stop', 'NN'), ('put', 'VBD'), ('Van', 'NNP'), ('Man', 'NNP'), ('jukebox', 'NN'), ('then', 'RB'), ('dance', 'VB'), ('now', 'RB'), ('singing', 'VBG')]\n"
     ]
    }
   ],
   "source": [
    "replaceable = []\n",
    "for word in tagged:\n",
    "    if (TAGS.has_key(word[1])):\n",
    "        replaceable.append(word)\n",
    "print replaceable"
   ]
  },
  {
   "cell_type": "code",
   "execution_count": 6,
   "metadata": {
    "collapsed": false
   },
   "outputs": [
    {
     "name": "stdout",
     "output_type": "stream",
     "text": [
      "The <noun> is n't the best <noun> to find a <noun> /n So the <noun> is where I go <adverb> and my <plural_noun> at the table <verb_ending_with_ing> <plural_noun> ... <proper_noun> fast and then we talk slow And you come over and start up a conversation with just me And trust me I 'll give it a chance now Take my hand , stop , put Van the Man on the jukebox And then we start to dance , and now I 'm singing like\n"
     ]
    }
   ],
   "source": [
    "random.shuffle(replaceable)\n",
    "for pos in replaceable[0:9]:\n",
    "    tokens = [word.replace(pos[0], TAGS[pos[1]]) for word in tokens]\n",
    "libbed = \" \".join(tokens)\n",
    "print libbed"
   ]
  },
  {
   "cell_type": "code",
   "execution_count": null,
   "metadata": {
    "collapsed": true
   },
   "outputs": [],
   "source": []
  },
  {
   "cell_type": "code",
   "execution_count": null,
   "metadata": {
    "collapsed": true
   },
   "outputs": [],
   "source": []
  }
 ],
 "metadata": {
  "kernelspec": {
   "display_name": "Python 2",
   "language": "python",
   "name": "python2"
  },
  "language_info": {
   "codemirror_mode": {
    "name": "ipython",
    "version": 2
   },
   "file_extension": ".py",
   "mimetype": "text/x-python",
   "name": "python",
   "nbconvert_exporter": "python",
   "pygments_lexer": "ipython2",
   "version": "2.7.11"
  }
 },
 "nbformat": 4,
 "nbformat_minor": 0
}
